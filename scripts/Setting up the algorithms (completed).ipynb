{
 "cells": [
  {
   "cell_type": "markdown",
   "id": "a5153f70-a64b-4524-bed5-73e0d2d971d6",
   "metadata": {},
   "source": [
    "# Context"
   ]
  },
  {
   "cell_type": "code",
   "execution_count": null,
   "id": "b6a680ea-6c81-471b-ac51-4e26fb01f888",
   "metadata": {},
   "outputs": [],
   "source": []
  },
  {
   "cell_type": "markdown",
   "id": "9417e369-1168-4e4e-98ef-222e9ba19f46",
   "metadata": {},
   "source": [
    "# Optimization problem"
   ]
  },
  {
   "cell_type": "markdown",
   "id": "be7ef068-8483-4658-af6b-15d764ade249",
   "metadata": {},
   "source": [
    "# Imports"
   ]
  },
  {
   "cell_type": "code",
   "execution_count": 6,
   "id": "06880340-97b5-4269-9f93-af8eed15f8fe",
   "metadata": {},
   "outputs": [],
   "source": [
    "%load_ext memory_profiler\n",
    "import pandas as pd"
   ]
  },
  {
   "cell_type": "markdown",
   "id": "2318e8ee-b29c-4b1b-b7d9-64dcba6230e8",
   "metadata": {},
   "source": [
    "# Fetch the data"
   ]
  },
  {
   "cell_type": "markdown",
   "id": "ad5e4713-ab58-4be7-a316-1a0422d466a0",
   "metadata": {},
   "source": [
    "## Load the data"
   ]
  },
  {
   "cell_type": "code",
   "execution_count": null,
   "id": "ce2ddaa7-1e07-4f73-87f5-c525266cba7e",
   "metadata": {},
   "outputs": [],
   "source": []
  },
  {
   "cell_type": "markdown",
   "id": "cb94e505-0f27-44b8-a392-fd3f2c52b708",
   "metadata": {},
   "source": [
    "## Prepare the data"
   ]
  },
  {
   "cell_type": "code",
   "execution_count": null,
   "id": "ad36f0c7-8926-4738-aa30-feb06df2d934",
   "metadata": {},
   "outputs": [],
   "source": []
  },
  {
   "cell_type": "markdown",
   "id": "2d8809cb-b098-41a6-a628-82d1a230c54d",
   "metadata": {},
   "source": [
    "# Optimization algorithms"
   ]
  },
  {
   "cell_type": "code",
   "execution_count": null,
   "id": "058500cd-994b-4e0c-af44-67aa9392a463",
   "metadata": {},
   "outputs": [],
   "source": []
  },
  {
   "cell_type": "markdown",
   "id": "baa8e146-4b63-4758-86ad-f57bcc288536",
   "metadata": {},
   "source": [
    "## NSGA-II "
   ]
  },
  {
   "cell_type": "code",
   "execution_count": null,
   "id": "cafa84f4-09bc-4ddd-942c-75a9c7a5576d",
   "metadata": {},
   "outputs": [],
   "source": []
  },
  {
   "cell_type": "markdown",
   "id": "f1c14546-3c2e-4bdf-867e-c9cfcfd7d151",
   "metadata": {},
   "source": []
  },
  {
   "cell_type": "code",
   "execution_count": null,
   "id": "2eda6f82-f215-4355-8480-f3f78f7009fd",
   "metadata": {},
   "outputs": [],
   "source": []
  },
  {
   "cell_type": "markdown",
   "id": "69e1cf81-2c3f-4ddc-bf1e-7fa25b34cff7",
   "metadata": {},
   "source": []
  },
  {
   "cell_type": "code",
   "execution_count": null,
   "id": "bea25b71-99db-4070-8747-18ce8f34cd67",
   "metadata": {},
   "outputs": [],
   "source": []
  },
  {
   "cell_type": "markdown",
   "id": "b71865df-8980-4efe-a4f3-34c596a0fa41",
   "metadata": {},
   "source": []
  },
  {
   "cell_type": "code",
   "execution_count": null,
   "id": "e9c991cb-7225-4f5e-a6a7-464fcb18c30b",
   "metadata": {},
   "outputs": [],
   "source": []
  }
 ],
 "metadata": {
  "kernelspec": {
   "display_name": "Python 3 (ipykernel)",
   "language": "python",
   "name": "python3"
  },
  "language_info": {
   "codemirror_mode": {
    "name": "ipython",
    "version": 3
   },
   "file_extension": ".py",
   "mimetype": "text/x-python",
   "name": "python",
   "nbconvert_exporter": "python",
   "pygments_lexer": "ipython3",
   "version": "3.9.20"
  }
 },
 "nbformat": 4,
 "nbformat_minor": 5
}
