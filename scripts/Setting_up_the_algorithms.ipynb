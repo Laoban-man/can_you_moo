{
  "cells": [
    {
      "cell_type": "markdown",
      "id": "dcb85bd4",
      "metadata": {
        "id": "dcb85bd4"
      },
      "source": [
        "# Context"
      ]
    },
    {
      "cell_type": "markdown",
      "id": "b740e0a7",
      "metadata": {
        "id": "b740e0a7"
      },
      "source": [
        "Multi-optimization problems are present in all companies, from balancing spending with future income to logitistic supply chains with production. Each problem is different though and may seek to optimize different objectives while accounting for different constraints.\n",
        "\n",
        "In the examples from Pernod Ricard:\n",
        "- the machine learning regression computing individual advertising contributions to sales volumes leads to a high-stakes decision making process where millions of euros need to be attributed to different channels in order to fulfill business objectives.\n",
        "- 5 European countries have more than 500 people conducting upwards of 4000 weekly visits. These visits have to maximize potential impact while reducing the time/distance required to achieve these visits (or transportation and associated costs in other companies).\n",
        "\n",
        "Gurobi is a company with a number of APIs which handle specific use cases with high performance algorithms and which is expensive to use.\n",
        "\n",
        "Pymoo is an open-source and highly customizable package with a large number of algorithms which can be implemented and tailored to the individual use cases."
      ]
    },
    {
      "cell_type": "code",
      "source": [
        "# Install necessary packages\n",
        "!pip install -q --upgrade pip\n",
        "!pip install -q numpy pandas matplotlib seaborn plotly jupyter ipywidgets tqdm scipy alive-progress pymoo"
      ],
      "metadata": {
        "id": "x80RsHPbx2IW"
      },
      "id": "x80RsHPbx2IW",
      "execution_count": null,
      "outputs": []
    },
    {
      "cell_type": "markdown",
      "id": "c09db5c9",
      "metadata": {
        "id": "c09db5c9"
      },
      "source": [
        "# Optimization problem"
      ]
    },
    {
      "cell_type": "markdown",
      "id": "71d462bb",
      "metadata": {
        "id": "71d462bb"
      },
      "source": [
        "This problem will seek to fix the current French budget instead of waiting for the government to figure it out :-).\n"
      ]
    },
    {
      "cell_type": "markdown",
      "id": "603acba7",
      "metadata": {
        "id": "603acba7"
      },
      "source": [
        "# Imports"
      ]
    },
    {
      "cell_type": "code",
      "execution_count": null,
      "id": "de4ba18b",
      "metadata": {
        "id": "de4ba18b"
      },
      "outputs": [],
      "source": [
        "import pandas as pd\n",
        "import numpy as np\n",
        "\n",
        "from pymoo.core.problem import ElementwiseProblem\n",
        "from pymoo.algorithms.moo.nsga2 import NSGA2\n",
        "from pymoo.algorithms.moo.ctaea import CTAEA\n",
        "from pymoo.algorithms.moo.nsga3 import NSGA3\n",
        "from pymoo.algorithms.soo.nonconvex.pso import PSO\n",
        "from pymoo.algorithms.soo.nonconvex.cmaes import CMAES\n",
        "from pymoo.algorithms.soo.nonconvex.de import DE\n",
        "from pymoo.algorithms.moo.spea2 import SPEA2\n",
        "from pymoo.visualization.scatter import Scatter\n",
        "from pymoo.util.ref_dirs import get_reference_directions\n",
        "from pymoo.core.population import Population\n",
        "from pymoo.core.algorithm import Algorithm\n",
        "from pymoo.util.nds.non_dominated_sorting import NonDominatedSorting\n",
        "from pymoo.optimize import minimize\n",
        "\n",
        "\n",
        "from pymoo.indicators.hv import Hypervolume\n",
        "from pymoo.indicators.gd import GD\n",
        "from pymoo.indicators.igd import IGD\n",
        "from tabulate import tabulate\n",
        "\n",
        "import matplotlib.pyplot as plt\n",
        "import plotly.graph_objects as go\n"
      ]
    },
    {
      "cell_type": "markdown",
      "id": "45e97860",
      "metadata": {
        "id": "45e97860"
      },
      "source": [
        "# Define the problem"
      ]
    },
    {
      "cell_type": "code",
      "execution_count": null,
      "id": "f8028a1c",
      "metadata": {
        "id": "f8028a1c"
      },
      "outputs": [],
      "source": [
        "class FranceBudgetProblem(ElementwiseProblem):\n",
        "    def __init__(self):\n",
        "        super().__init__(n_var=3,\n",
        "                         n_obj=3,\n",
        "                         n_constr=1,\n",
        "                        #  n_ieq_constr=3,\n",
        "                         xl=np.array([# fill me #]), # Lower limits\n",
        "                         xu=np.array([# fill me #])) # Upper limits\n",
        "\n",
        "    def _evaluate(self, x, out, *args, **kwargs):\n",
        "        # Decision variables\n",
        "        infrastructure_spending = x[0]\n",
        "        tax_rate = x[1]\n",
        "        social_spending = x[2]\n",
        "\n",
        "        # Objectives\n",
        "        f1 = # fill me  # Maximize economic growth\n",
        "        # f1 = # fill me   # Maximize economic growth\n",
        "        f2 = # fill me   # Minimize budget deficit\n",
        "        f3 = # fill me   # Maximize social welfare\n",
        "        # f3 = # fill me   # Maximize social welfare\n",
        "\n",
        "        out[\"F\"] = [f1, f2, f3]\n",
        "\n",
        "        # Constraint: Total spending <= 150\n",
        "        out[\"G\"] = # fill me\n",
        "        # out[\"G\"] = # fill me\n",
        "\n",
        "# Create the problem\n",
        "problem = FranceBudgetProblem()\n",
        "results=[]"
      ]
    },
    {
      "cell_type": "markdown",
      "id": "6c1da7c3",
      "metadata": {
        "id": "6c1da7c3"
      },
      "source": [
        "# Optimization algorithms"
      ]
    },
    {
      "cell_type": "markdown",
      "id": "68d491fb",
      "metadata": {
        "id": "68d491fb"
      },
      "source": [
        "## NSGA-II"
      ]
    },
    {
      "cell_type": "code",
      "execution_count": null,
      "id": "d2738d6a",
      "metadata": {
        "scrolled": true,
        "id": "d2738d6a"
      },
      "outputs": [],
      "source": [
        "nsga2=NSGA2(pop_size=# fill me )\n",
        "res = minimize(problem,\n",
        "                   nsga2,\n",
        "                   (\"n_gen\", # fill me ),\n",
        "                   seed=1,\n",
        "                   verbose=False)\n",
        "\n",
        "results.append((\"nsga2\",res.F))\n",
        "\n",
        "print(f\"\\nResults for nsga2:\")\n",
        "print(f\"Best solutions found: \\nSolution 1: {res.X[0]}\")\n",
        "print(f\"Solution 2: {res.X[1]}\")\n",
        "print(f\"Solution 3: {res.X[2]}\")\n",
        "print(f\"Objectives: {res.F[0]}\")\n",
        "\n",
        "# Visualization\n",
        "x, y, z = res.F.T  # Transpose to separate x, y, z\n",
        "fig = go.Figure(data=go.Scatter3d(x=x,y=y, z=z , mode='markers'))\n",
        "fig.show()"
      ]
    },
    {
      "cell_type": "markdown",
      "id": "571f850f",
      "metadata": {
        "id": "571f850f"
      },
      "source": [
        "## NSGA-III"
      ]
    },
    {
      "cell_type": "code",
      "execution_count": null,
      "id": "2c4ac6a6",
      "metadata": {
        "id": "2c4ac6a6"
      },
      "outputs": [],
      "source": [
        "# create the reference directions to be used for the optimization\n",
        "ref_dirs = get_reference_directions(\"das-dennis\", 3, n_partitions=# fill me )\n",
        "\n",
        "nsga3=NSGA3(pop_size=# fill me ,ref_dirs=ref_dirs)\n",
        "res = minimize(problem,\n",
        "                   nsga3,\n",
        "                   (\"n_gen\", # fill me ),\n",
        "                   seed=1,\n",
        "                   verbose=False)\n",
        "\n",
        "results.append((\"nsga3\",res.F))\n",
        "\n",
        "print(f\"\\nResults for nsga3:\")\n",
        "print(f\"Best solutions found: \\nSolution 1: {res.X[0]}\")\n",
        "print(f\"Solution 2: {res.X[1]}\")\n",
        "print(f\"Solution 3: {res.X[2]}\")\n",
        "print(f\"Objectives: {res.F[:3]}\")\n",
        "\n",
        "# Visualization\n",
        "x, y, z = res.F.T  # Transpose to separate x, y, z\n",
        "fig = go.Figure(data=go.Scatter3d(x=x,y=y, z=z , mode='markers'))\n",
        "fig.show()"
      ]
    },
    {
      "cell_type": "markdown",
      "id": "1f0be5d2",
      "metadata": {
        "id": "1f0be5d2"
      },
      "source": [
        "## CTAEA"
      ]
    },
    {
      "cell_type": "code",
      "execution_count": null,
      "id": "6c6630e7",
      "metadata": {
        "id": "6c6630e7"
      },
      "outputs": [],
      "source": [
        "# create the reference directions to be used for the optimization\n",
        "ref_dirs = get_reference_directions(\"das-dennis\", 3, n_partitions=# fill me )\n",
        "\n",
        "ctaea=CTAEA(n_neighbors=# fill me , decomposition=\"auto\", ref_dirs=ref_dirs)\n",
        "res = minimize(problem,\n",
        "                   ctaea,\n",
        "                   (\"n_gen\", # fill me ),\n",
        "                   seed=1,\n",
        "                   verbose=False)\n",
        "\n",
        "results.append((\"ctaea\",res.F))\n",
        "\n",
        "print(f\"\\nResults for ctaea:\")\n",
        "print(f\"Best solutions found: \\nSolution 1: {res.X[0]}\")\n",
        "print(f\"Solution 2: {res.X[1]}\")\n",
        "print(f\"Solution 3: {res.X[2]}\")\n",
        "# print(f\"Objectives: {res.F}\")\n",
        "\n",
        "# Visualization\n",
        "x, y, z = res.F.T  # Transpose to separate x, y, z\n",
        "fig = go.Figure(data=go.Scatter3d(x=x,y=y, z=z , mode='markers'))\n",
        "fig.show()"
      ]
    },
    {
      "cell_type": "markdown",
      "id": "8a5a81a0",
      "metadata": {
        "id": "8a5a81a0"
      },
      "source": [
        "## Particle Swarm Optimization"
      ]
    },
    {
      "cell_type": "code",
      "execution_count": null,
      "id": "060014e3",
      "metadata": {
        "id": "060014e3"
      },
      "outputs": [],
      "source": [
        "class ThreeDProblem(ElementwiseProblem):\n",
        "    def __init__(self):\n",
        "        super().__init__(n_var=3, n_obj=3, xl=np.array([-5,-5,-5]), xu=np.array([5,5,5]))\n",
        "\n",
        "    def _evaluate(self, x, out, *args, **kwargs):\n",
        "        f1 = -1 * (0.5 * x[0] - 0.3 * x[1])  # Maximize economic growth\n",
        "        # f1 = -1 * (0.5 * x[0] - 0.3 * x[1]**2)  # Maximize economic growth\n",
        "        f2 = 0.7 * x[0] + x[2] - 0.8 * x[1]  # Minimize budget deficit\n",
        "        f3 = -1 * (0.6 * x[2] - 0.2 * x[1])  # Maximize social welfare\n",
        "        # f3 = -1 * (0.6 * x[2] - 0.2 * x[1]**2)  # Maximize social welfare\n",
        "        out[\"F\"] = [f1, f2,f3]\n",
        "\n",
        "\n",
        "class MOPSO(Algorithm):\n",
        "    def __init__(self, pop_size=100, w=0.9, c1=2.0, c2=2.0, **kwargs):\n",
        "        super().__init__(**kwargs)\n",
        "        self.pop_size = pop_size\n",
        "        self.w = w\n",
        "        self.c1 = c1\n",
        "        self.c2 = c2\n",
        "\n",
        "    def _initialize_infill(self):\n",
        "        X = np.random.uniform(self.problem.xl, self.problem.xu, size=(self.pop_size, self.problem.n_var))\n",
        "        return Population.new(X=X)\n",
        "\n",
        "    def _initialize_advance(self, infills=None, **kwargs):\n",
        "        self.pop = infills\n",
        "        self.velocities = np.zeros((self.pop_size, self.problem.n_var))\n",
        "        self.pbest = self.pop.copy()\n",
        "        self.gbest = self.pop[np.random.randint(self.pop_size)]\n",
        "\n",
        "    def _infill(self):\n",
        "        X = self.pop.get(\"X\")\n",
        "\n",
        "        r1, r2 = np.random.random((2, self.pop_size, self.problem.n_var))\n",
        "\n",
        "        self.velocities = (self.w * self.velocities +\n",
        "                           self.c1 * r1 * (self.pbest.get(\"X\") - X) +\n",
        "                           self.c2 * r2 * (self.gbest.get(\"X\") - X))\n",
        "\n",
        "        X = X + self.velocities\n",
        "        X = np.clip(X, self.problem.xl, self.problem.xu)\n",
        "\n",
        "        return Population.new(X=X)\n",
        "\n",
        "    def _advance(self, infills=None, **kwargs):\n",
        "        self.pop = infills\n",
        "\n",
        "        # Update personal best\n",
        "        for i in range(self.pop_size):\n",
        "            if self.dominate(self.pop[i], self.pbest[i]):\n",
        "                self.pbest[i] = self.pop[i]\n",
        "\n",
        "        # Update global best\n",
        "        non_dominated = self.non_dominated(self.pbest)\n",
        "        if len(non_dominated) > 0:\n",
        "            self.gbest = non_dominated[np.random.randint(len(non_dominated))]\n",
        "\n",
        "    def dominate(self, a, b):\n",
        "        return np.all(a.F <= b.F) and np.any(a.F < b.F)\n",
        "\n",
        "    def non_dominated(self, pop):\n",
        "        F = pop.get(\"F\")\n",
        "        non_dominated_indices = NonDominatedSorting().do(F, only_non_dominated_front=True)\n",
        "        return pop[non_dominated_indices]\n",
        "\n",
        "    def _set_optimum(self):\n",
        "        self.opt = self.non_dominated(self.pop)"
      ]
    },
    {
      "cell_type": "code",
      "execution_count": null,
      "id": "04bb4f52",
      "metadata": {
        "id": "04bb4f52"
      },
      "outputs": [],
      "source": [
        "problem = ThreeDProblem()\n",
        "\n",
        "# Algorithm setup\n",
        "algorithm = MOPSO(\n",
        "    pop_size=# fill me ,\n",
        "    eliminate_duplicates=True\n",
        ")\n",
        "\n",
        "# Run optimization process\n",
        "res = minimize(problem,\n",
        "               algorithm,\n",
        "               ('n_gen', # fill me ),\n",
        "               seed=1,\n",
        "               verbose=True)\n",
        "\n",
        "results.append((\"mopso\",res.F))\n",
        "\n",
        "# Display results\n",
        "print(\"Best solutions found:\")\n",
        "print(\"X =\", res.X[:3])\n",
        "print(\"F =\", res.F[:3])\n",
        "\n",
        "# Visualization\n",
        "x, y, z = res.F.T  # Transpose to separate x, y, z\n",
        "fig = go.Figure(data=go.Scatter3d(x=x,y=y, z=z , mode='markers'))\n",
        "fig.show()"
      ]
    },
    {
      "cell_type": "markdown",
      "id": "83400628",
      "metadata": {
        "id": "83400628"
      },
      "source": [
        "## Differential Evolution"
      ]
    },
    {
      "cell_type": "code",
      "execution_count": null,
      "id": "1653e27b",
      "metadata": {
        "id": "1653e27b"
      },
      "outputs": [],
      "source": [
        "class MODE(Algorithm):\n",
        "\n",
        "    def __init__(self,\n",
        "                 pop_size=100,\n",
        "                 F=0.5,\n",
        "                 CR=0.5,\n",
        "                 **kwargs):\n",
        "        super().__init__(**kwargs)\n",
        "        self.pop_size = pop_size\n",
        "        self.F = F\n",
        "        self.CR = CR\n",
        "\n",
        "    def _setup(self, problem, **kwargs):\n",
        "        self.problem = problem\n",
        "\n",
        "    def _initialize_infill(self):\n",
        "        X = np.random.uniform(self.problem.xl, self.problem.xu, size=(self.pop_size, self.problem.n_var))\n",
        "        return Population.new(X=X)\n",
        "\n",
        "    def _infill(self):\n",
        "        pop = self.pop\n",
        "        X = pop.get(\"X\")\n",
        "\n",
        "        off = np.full(X.shape, np.inf)\n",
        "\n",
        "        for i in range(self.pop_size):\n",
        "            a, b, c = np.random.choice(self.pop_size, 3, replace=False)\n",
        "\n",
        "            v = X[a] + self.F * (X[b] - X[c])\n",
        "\n",
        "            j = np.random.randint(self.problem.n_var)\n",
        "            for k in range(self.problem.n_var):\n",
        "                if np.random.random() < self.CR or k == j:\n",
        "                    off[i, k] = v[k]\n",
        "                else:\n",
        "                    off[i, k] = X[i, k]\n",
        "\n",
        "        off = np.clip(off, self.problem.xl, self.problem.xu)\n",
        "\n",
        "        return Population.new(X=off)\n",
        "\n",
        "    def _advance(self, infills=None, **kwargs):\n",
        "        # Merge parents and offspring\n",
        "        pop = Population.merge(self.pop, infills)\n",
        "\n",
        "        # Perform non-dominated sorting\n",
        "        F = pop.get(\"F\")\n",
        "        fronts = NonDominatedSorting().do(F)\n",
        "\n",
        "        # Select the next population\n",
        "        next_pop = []\n",
        "        for front in fronts:\n",
        "            if len(next_pop) + len(front) <= self.pop_size:\n",
        "                next_pop.extend(front)\n",
        "            else:\n",
        "                # If adding the entire front exceeds pop_size, we need to select a subset\n",
        "                remaining = self.pop_size - len(next_pop)\n",
        "                # Here we could implement a crowding distance selection, but for simplicity, we'll use random selection\n",
        "                selected = np.random.choice(front, remaining, replace=False)\n",
        "                next_pop.extend(selected)\n",
        "                break\n",
        "\n",
        "        self.pop = pop[next_pop]\n",
        "\n",
        "    def _set_optimum(self, **kwargs):\n",
        "        F = self.pop.get(\"F\")\n",
        "        non_dominated = NonDominatedSorting().do(F, only_non_dominated_front=True)\n",
        "        self.opt = self.pop[non_dominated]"
      ]
    },
    {
      "cell_type": "code",
      "execution_count": null,
      "id": "40bf7475",
      "metadata": {
        "id": "40bf7475"
      },
      "outputs": [],
      "source": [
        "# Problem definition\n",
        "problem = ThreeDProblem()\n",
        "\n",
        "# Algorithm setup\n",
        "algorithm = MODE(\n",
        "    pop_size=# fill me ,\n",
        "    eliminate_duplicates=True\n",
        ")\n",
        "\n",
        "# Run optimization process\n",
        "res = minimize(problem,\n",
        "               algorithm,\n",
        "               ('n_gen', # fill me ),\n",
        "               seed=1,\n",
        "               verbose=True)\n",
        "\n",
        "results.append((\"mode\",res.F))\n",
        "\n",
        "# Display results\n",
        "print(\"Best solutions found:\")\n",
        "print(\"X =\", res.X[0])\n",
        "print(\"F =\", res.F[0])\n",
        "\n",
        "# Visualization\n",
        "x, y, z = res.F.T  # Transpose to separate x, y, z\n",
        "fig = go.Figure(data=go.Scatter3d(x=x,y=y, z=z , mode='markers'))\n",
        "fig.show()"
      ]
    },
    {
      "cell_type": "markdown",
      "id": "82efd20b",
      "metadata": {
        "id": "82efd20b"
      },
      "source": [
        "## SPEA2"
      ]
    },
    {
      "cell_type": "code",
      "execution_count": null,
      "id": "6d380ba1",
      "metadata": {
        "id": "6d380ba1"
      },
      "outputs": [],
      "source": [
        "spea2=SPEA2(pop_size=# fill me )\n",
        "res = minimize(problem,\n",
        "                   spea2,\n",
        "                   (\"n_gen\", # fill me ),\n",
        "                   seed=1,\n",
        "                   verbose=False)\n",
        "\n",
        "results.append((\"spea2\",res.F))\n",
        "\n",
        "print(f\"\\nResults for spea2:\")\n",
        "print(f\"Best solutions found: \\nSolution 1: {res.X[0]}\")\n",
        "print(f\"Solution 2: {res.X[1]}\")\n",
        "print(f\"Solution 3: {res.X[2]}\")\n",
        "print(f\"Objectives: {res.F[0]}\")\n",
        "\n",
        "\n",
        "# Visualization\n",
        "x, y, z = res.F.T  # Transpose to separate x, y, z\n",
        "fig = go.Figure(data=go.Scatter3d(x=x,y=y, z=z , mode='markers'))\n",
        "fig.show()"
      ]
    },
    {
      "cell_type": "markdown",
      "id": "c08a6931",
      "metadata": {
        "id": "c08a6931"
      },
      "source": [
        "## Metrics"
      ]
    },
    {
      "cell_type": "markdown",
      "source": [
        "**Hypervolume (HV)**\n",
        "\n",
        "Hypervolume is a performance indicator that measures the volume of the\n",
        "objective space dominated by a set of solutions with respect to a reference\n",
        "point. It is calculated as the area/volume dominated by the provided set of\n",
        "solutions relative to a specified reference point[3]. A higher hypervolume\n",
        "value indicates better performance, as it represents a larger dominated area\n",
        "in the objective space[3].\n",
        "\n",
        "**Generational Distance (GD)**\n",
        "\n",
        "The Generational Distance (GD) measures the distance from the solutions found\n",
        "by an algorithm to the Pareto-front.\n",
        "\n",
        "**Inverted Generational Distance (IGD)**\n",
        "\n",
        "The Inverted Generational Distance (IGD) is similar to GD but measures the\n",
        "distance from each point in the reference set (Pareto-front) to the closest\n",
        "point in the solution set[3].\n",
        "\n",
        "For both GD and IGD, lower values indicate better performance, as they represent\n",
        " smaller distances between the solution set and the Pareto-front[3].\n"
      ],
      "metadata": {
        "id": "Kg2YBLafeSc0"
      },
      "id": "Kg2YBLafeSc0"
    },
    {
      "cell_type": "code",
      "execution_count": null,
      "id": "d09b08c8",
      "metadata": {
        "scrolled": true,
        "id": "d09b08c8"
      },
      "outputs": [],
      "source": [
        "class MyProblem:\n",
        "    def __init__(self):\n",
        "        pass\n",
        "\n",
        "    def evaluate(self, x):\n",
        "        f1 = -1 * (0.5 * x[0] - 0.3 * x[1])  # Maximize economic growth\n",
        "        # f1 = -1 * (0.5 * x[0] - 0.3 * x[1]**2)  # Maximize economic growth\n",
        "        f2 = 0.7 * x[0] + x[2] - 0.8 * x[1]  # Minimize budget deficit\n",
        "        f3 = -1 * (0.6 * x[2] - 0.2 * x[1])  # Maximize social welfare\n",
        "        # f3 = -1 * (0.6 * x[2] - 0.2 * x[1]**2)  # Maximize social welfare\n",
        "        return np.array([f1, f2, f3])\n",
        "\n",
        "    def pareto_front(self, n_points=20):\n",
        "        # Generate points for the true Pareto front\n",
        "\n",
        "        # Generate candidate solutions\n",
        "        x0 = np.linspace(-5, 5, n_points)\n",
        "        x1 = np.linspace(-5, 5, n_points)\n",
        "        x2 = np.linspace(-5, 5, n_points)\n",
        "        X0, X1, X2 = np.meshgrid(x0, x1, x2)\n",
        "\n",
        "        # Evaluate objectives\n",
        "        F1 = -1 * (0.5 * X0 - 0.3 * X1)\n",
        "        # F1 = -1 * (0.5 * X0 - 0.3 * X1**2)\n",
        "        F2 = 0.7 * X0 + X2 - 0.8 * X1\n",
        "        F3 = -1 * (0.6 * X2 - 0.2 * X1)\n",
        "        # F3 = -1 * (0.6 * X2 - 0.2 * X1**2)\n",
        "\n",
        "        # Flatten arrays\n",
        "        F1_flat = F1.flatten()\n",
        "        F2_flat = F2.flatten()\n",
        "        F3_flat = F3.flatten()\n",
        "\n",
        "        # Combine objectives and filter non-dominated solutions\n",
        "        combined = np.vstack((F1_flat, F2_flat,F3_flat)).T\n",
        "\n",
        "        # Non-dominated sorting to find Pareto front\n",
        "        is_dominated = np.zeros(combined.shape[0], dtype=bool)\n",
        "\n",
        "        for i in range(combined.shape[0]):\n",
        "            for j in range(combined.shape[0]):\n",
        "                if i != j:\n",
        "                    if (combined[j][0] <= combined[i][0]) and (combined[j][1] < combined[i][1]):\n",
        "                        is_dominated[i] = True\n",
        "                        break\n",
        "\n",
        "        pareto_front = combined[~is_dominated]\n",
        "\n",
        "        return pareto_front\n",
        "\n",
        "# Create an instance of your problem\n",
        "problem = MyProblem()\n",
        "\n",
        "# Calculate true Pareto front\n",
        "true_pareto_front = problem.pareto_front()\n",
        "temp=pd.DataFrame(true_pareto_front,columns=[\"x\",\"y\",\"z\"])\n",
        "# Visualization\n",
        "fig = go.Figure(data=go.Scatter3d(x=temp[\"x\"],y=temp[\"y\"],z=temp[\"z\"], mode='markers'))\n",
        "fig.show()"
      ]
    },
    {
      "cell_type": "code",
      "execution_count": null,
      "id": "10f8b4c8",
      "metadata": {
        "id": "10f8b4c8"
      },
      "outputs": [],
      "source": [
        "# Calculate metrics\n",
        "metrics = {\n",
        "    \"Hypervolume\": Hypervolume(ref_point=np.array([10, 10,10])),\n",
        "    \"GD\": GD(true_pareto_front),\n",
        "    \"IGD\": IGD(true_pareto_front),\n",
        "}\n",
        "\n",
        "# Calculate metrics for each algorithm\n",
        "data = []\n",
        "for item in results:\n",
        "    row = [item[0]]\n",
        "    for metric_name, metric in metrics.items():\n",
        "        if metric_name == \"Hypervolume\":\n",
        "            value = metric.do(item[1])\n",
        "        else:\n",
        "            # The do() method for GD and IGD likely only expects the algorithm's solutions\n",
        "            value = metric.do(item[1])  # Remove true_pareto_front from here\n",
        "        row.append(f\"{value:.4f}\")\n",
        "    data.append(row)\n",
        "\n",
        "# Create table\n",
        "headers = [\"Algorithm\"] + list(metrics.keys())\n",
        "table = tabulate(data, headers=headers, tablefmt=\"grid\")\n",
        "\n",
        "print(table)"
      ]
    }
  ],
  "metadata": {
    "kernelspec": {
      "display_name": "Python 3 (ipykernel)",
      "language": "python",
      "name": "python3"
    },
    "language_info": {
      "codemirror_mode": {
        "name": "ipython",
        "version": 3
      },
      "file_extension": ".py",
      "mimetype": "text/x-python",
      "name": "python",
      "nbconvert_exporter": "python",
      "pygments_lexer": "ipython3",
      "version": "3.9.20"
    },
    "colab": {
      "provenance": [],
      "toc_visible": true
    }
  },
  "nbformat": 4,
  "nbformat_minor": 5
}